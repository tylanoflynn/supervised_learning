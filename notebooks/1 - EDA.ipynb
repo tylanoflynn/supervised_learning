{
 "cells": [
  {
   "cell_type": "markdown",
   "metadata": {},
   "source": [
    "\n",
    "- The os module has a perfect method to list files in a directory.\n",
    "- Pandas json normalize could work here but is not necessary to convert the JSON data to a dataframe.\n",
    "- You may need a nested for-loop to access each sale!\n",
    "- We've put a lot of time into creating the structure of this repository, and it's a good example for future projects.  In the file functions_variables.py, there is an example function that you can import and use.  If you have any variables, functions or classes that you want to make, they can be put in the functions_variables.py file and imported into a notebook.  Note that only .py files can be imported into a notebook. If you want to import everything from a .py file, you can use the following:\n",
    "```python\n",
    "from functions_variables import *\n",
    "```\n",
    "If you just import functions_variables, then each object from the file will need to be prepended with \"functions_variables\"\\\n",
    "Using this .py file will keep your notebooks very organized and make it easier to reuse code between notebooks."
   ]
  },
  {
   "cell_type": "code",
   "execution_count": 8,
   "metadata": {
    "tags": []
   },
   "outputs": [],
   "source": [
    "# (this is not an exhaustive list of libraries)\n",
    "import pandas as pd\n",
    "import numpy as np\n",
    "import os\n",
    "import json\n",
    "from pprint import pprint\n",
    "\n",
    "pd.set_option('display.max_columns', 500)"
   ]
  },
  {
   "cell_type": "code",
   "execution_count": 9,
   "metadata": {
    "tags": []
   },
   "outputs": [],
   "source": [
    "from modules.JSONFramer import JSONFramer"
   ]
  },
  {
   "cell_type": "code",
   "execution_count": 15,
   "metadata": {},
   "outputs": [],
   "source": [
    "myJSONFramer = JSONFramer('../data')"
   ]
  },
  {
   "cell_type": "code",
   "execution_count": 16,
   "metadata": {},
   "outputs": [
    {
     "data": {
      "text/plain": [
       "'../data'"
      ]
     },
     "execution_count": 16,
     "metadata": {},
     "output_type": "execute_result"
    }
   ],
   "source": [
    "myJSONFramer.directory"
   ]
  },
  {
   "cell_type": "code",
   "execution_count": 17,
   "metadata": {},
   "outputs": [
    {
     "data": {
      "text/plain": [
       "['NE_Lincoln_1.json',\n",
       " 'SC_Columbia_3.json',\n",
       " 'ID_Boise_0.json',\n",
       " 'OK_OklahomaCity_4.json',\n",
       " 'WI_Madison_3.json',\n",
       " 'MI_Lansing_4.json',\n",
       " 'ND_Bismarck_0.json',\n",
       " 'WV_Charleston_3.json',\n",
       " 'WI_Madison_1.json',\n",
       " 'AL_Montgomery_1.json',\n",
       " 'CT_Hartford_2.json',\n",
       " 'IL_Springfield_0.json',\n",
       " 'AR_LittleRock_0.json',\n",
       " 'OH_Columbus_1.json',\n",
       " 'KS_Topeka_0.json',\n",
       " 'HI_Honolulu_4.json',\n",
       " 'AZ_Phoenix_4.json',\n",
       " 'UT_SaltLakeCity_2.json',\n",
       " 'OR_Salem_3.json',\n",
       " 'FL_Tallahassee_1.json',\n",
       " 'PA_Harrisburg_0.json',\n",
       " 'WY_Cheyenne_0.json',\n",
       " 'PA_Harrisburg_4.json',\n",
       " 'MT_Helena_3.json',\n",
       " 'OK_OklahomaCity_1.json',\n",
       " 'AK_Juneau_0.json',\n",
       " 'UT_SaltLakeCity_1.json',\n",
       " 'TX_Austin_4.json',\n",
       " 'NY_Albany_1.json',\n",
       " 'OR_Salem_4.json',\n",
       " 'SD_Pierre_4.json',\n",
       " 'ID_Boise_3.json',\n",
       " 'VA_Richmond_1.json',\n",
       " 'MD_Annapolis_1.json',\n",
       " 'NY_Albany_0.json',\n",
       " 'NE_Lincoln_0.json',\n",
       " 'TX_Austin_0.json',\n",
       " 'CT_Hartford_4.json',\n",
       " 'MI_Lansing_2.json',\n",
       " 'NC_Raleigh_2.json',\n",
       " 'HI_Honolulu_1.json',\n",
       " 'IA_DesMoines_3.json',\n",
       " 'CT_Hartford_1.json',\n",
       " 'LA_BatonRouge_0.json',\n",
       " 'WY_Cheyenne_4.json',\n",
       " 'KY_Frankfort_3.json',\n",
       " 'NM_SantaFe_2.json',\n",
       " 'DE_Dover_2.json',\n",
       " 'CA_Sacramento_1.json',\n",
       " 'PA_Harrisburg_2.json',\n",
       " 'MT_Helena_0.json',\n",
       " 'ME_Augusta_2.json',\n",
       " 'AZ_Phoenix_1.json',\n",
       " 'IL_Springfield_4.json',\n",
       " 'MD_Annapolis_3.json',\n",
       " 'SC_Columbia_0.json',\n",
       " 'OH_Columbus_2.json',\n",
       " 'KY_Frankfort_1.json',\n",
       " 'MO_JeffersonCity_0.json',\n",
       " 'TX_Austin_3.json',\n",
       " 'AL_Montgomery_4.json',\n",
       " 'IL_Springfield_2.json',\n",
       " 'AK_Juneau_1.json',\n",
       " 'LA_BatonRouge_1.json',\n",
       " 'WA_Olympia_0.json',\n",
       " 'TN_Nashville_2.json',\n",
       " 'NE_Lincoln_3.json',\n",
       " 'NH_Concord_0.json',\n",
       " 'ME_Augusta_3.json',\n",
       " 'WA_Olympia_3.json',\n",
       " 'OR_Salem_0.json',\n",
       " 'WV_Charleston_0.json',\n",
       " 'WA_Olympia_1.json',\n",
       " 'KS_Topeka_2.json',\n",
       " 'GA_Atlanta_3.json',\n",
       " 'MO_JeffersonCity_1.json',\n",
       " 'MN_St.Paul_2.json',\n",
       " 'AR_LittleRock_2.json',\n",
       " 'VA_Richmond_2.json',\n",
       " 'NY_Albany_4.json',\n",
       " 'TN_Nashville_4.json',\n",
       " 'VA_Richmond_4.json',\n",
       " 'WV_Charleston_1.json',\n",
       " 'KS_Topeka_1.json',\n",
       " 'MS_Jackson_3.json',\n",
       " 'MA_Boston_2.json',\n",
       " 'NH_Concord_3.json',\n",
       " 'AL_Montgomery_2.json',\n",
       " 'CA_Sacramento_3.json',\n",
       " 'KY_Frankfort_4.json',\n",
       " 'RI_Providence_3.json',\n",
       " 'RI_Providence_2.json',\n",
       " 'ND_Bismarck_3.json',\n",
       " 'AR_LittleRock_3.json',\n",
       " 'KS_Topeka_3.json',\n",
       " 'FL_Tallahassee_2.json',\n",
       " 'MS_Jackson_1.json',\n",
       " 'NM_SantaFe_0.json',\n",
       " 'OH_Columbus_0.json',\n",
       " 'CO_Denver_1.json',\n",
       " 'OK_OklahomaCity_0.json',\n",
       " 'AR_LittleRock_1.json',\n",
       " 'WA_Olympia_4.json',\n",
       " 'AZ_Phoenix_0.json',\n",
       " 'NV_CarsonCity_2.json',\n",
       " 'MN_St.Paul_0.json',\n",
       " 'CA_Sacramento_2.json',\n",
       " 'WI_Madison_0.json',\n",
       " 'ME_Augusta_4.json',\n",
       " 'MN_St.Paul_3.json',\n",
       " 'SD_Pierre_3.json',\n",
       " 'NM_SantaFe_3.json',\n",
       " 'MA_Boston_0.json',\n",
       " 'RI_Providence_1.json',\n",
       " 'CA_Sacramento_0.json',\n",
       " 'WI_Madison_2.json',\n",
       " 'SD_Pierre_1.json',\n",
       " 'UT_SaltLakeCity_4.json',\n",
       " 'LA_BatonRouge_3.json',\n",
       " 'OH_Columbus_4.json',\n",
       " 'CO_Denver_2.json',\n",
       " 'TX_Austin_2.json',\n",
       " 'IN_Indianapolis_2.json',\n",
       " 'ME_Augusta_0.json',\n",
       " 'OR_Salem_1.json',\n",
       " 'HI_Honolulu_0.json',\n",
       " 'AK_Juneau_3.json',\n",
       " 'TX_Austin_1.json',\n",
       " 'SC_Columbia_2.json',\n",
       " 'MS_Jackson_4.json',\n",
       " 'FL_Tallahassee_4.json',\n",
       " 'MS_Jackson_2.json',\n",
       " 'WV_Charleston_4.json',\n",
       " 'MI_Lansing_3.json',\n",
       " 'NV_CarsonCity_3.json',\n",
       " 'WY_Cheyenne_3.json',\n",
       " 'GA_Atlanta_0.json',\n",
       " 'TN_Nashville_3.json',\n",
       " 'OK_OklahomaCity_3.json',\n",
       " 'NH_Concord_2.json',\n",
       " 'CO_Denver_3.json',\n",
       " 'SD_Pierre_0.json',\n",
       " 'WY_Cheyenne_1.json',\n",
       " 'NC_Raleigh_1.json',\n",
       " 'NM_SantaFe_4.json',\n",
       " 'IA_DesMoines_2.json',\n",
       " 'MT_Helena_2.json',\n",
       " 'NY_Albany_3.json',\n",
       " 'LA_BatonRouge_2.json',\n",
       " 'MO_JeffersonCity_2.json',\n",
       " 'SC_Columbia_4.json',\n",
       " 'ID_Boise_2.json',\n",
       " 'DE_Dover_1.json',\n",
       " 'PA_Harrisburg_1.json',\n",
       " 'RI_Providence_4.json',\n",
       " 'MA_Boston_3.json',\n",
       " 'DE_Dover_4.json',\n",
       " 'IL_Springfield_3.json',\n",
       " 'ND_Bismarck_1.json',\n",
       " 'LA_BatonRouge_4.json',\n",
       " '.gitkeep',\n",
       " 'MO_JeffersonCity_3.json',\n",
       " 'HI_Honolulu_2.json',\n",
       " 'NH_Concord_1.json',\n",
       " 'WA_Olympia_2.json',\n",
       " 'VT_Montpelier_2.json',\n",
       " 'NV_CarsonCity_0.json',\n",
       " 'AK_Juneau_4.json',\n",
       " 'WV_Charleston_2.json',\n",
       " 'SD_Pierre_2.json',\n",
       " 'CO_Denver_0.json',\n",
       " 'VT_Montpelier_0.json',\n",
       " 'GA_Atlanta_4.json',\n",
       " 'VT_Montpelier_1.json',\n",
       " 'FL_Tallahassee_3.json',\n",
       " 'PA_Harrisburg_3.json',\n",
       " 'MD_Annapolis_2.json',\n",
       " 'CT_Hartford_3.json',\n",
       " 'WI_Madison_4.json',\n",
       " 'NE_Lincoln_4.json',\n",
       " 'UT_SaltLakeCity_3.json',\n",
       " 'MN_St.Paul_4.json',\n",
       " 'NJ_Trenton_4.json',\n",
       " 'NE_Lincoln_2.json',\n",
       " 'IL_Springfield_1.json',\n",
       " 'NC_Raleigh_3.json',\n",
       " 'TN_Nashville_1.json',\n",
       " 'IA_DesMoines_1.json',\n",
       " 'VT_Montpelier_4.json',\n",
       " 'MD_Annapolis_0.json',\n",
       " 'KS_Topeka_4.json',\n",
       " 'VA_Richmond_0.json',\n",
       " 'WY_Cheyenne_2.json',\n",
       " 'AR_LittleRock_4.json',\n",
       " 'HI_Honolulu_3.json',\n",
       " 'NV_CarsonCity_4.json',\n",
       " 'NC_Raleigh_0.json',\n",
       " 'DE_Dover_0.json',\n",
       " 'FL_Tallahassee_0.json',\n",
       " 'MT_Helena_4.json',\n",
       " 'AZ_Phoenix_3.json',\n",
       " 'NY_Albany_2.json',\n",
       " 'NM_SantaFe_1.json',\n",
       " 'OH_Columbus_3.json',\n",
       " 'IA_DesMoines_0.json',\n",
       " 'NH_Concord_4.json',\n",
       " 'NC_Raleigh_4.json',\n",
       " 'IN_Indianapolis_1.json',\n",
       " 'GA_Atlanta_1.json',\n",
       " 'MN_St.Paul_1.json',\n",
       " 'NJ_Trenton_2.json',\n",
       " 'MO_JeffersonCity_4.json',\n",
       " 'RI_Providence_0.json',\n",
       " 'IN_Indianapolis_3.json',\n",
       " 'VT_Montpelier_3.json',\n",
       " 'SC_Columbia_1.json',\n",
       " 'VA_Richmond_3.json',\n",
       " 'MI_Lansing_0.json',\n",
       " 'AK_Juneau_2.json',\n",
       " 'AL_Montgomery_3.json',\n",
       " 'MT_Helena_1.json',\n",
       " 'MD_Annapolis_4.json',\n",
       " 'AL_Montgomery_0.json',\n",
       " 'AZ_Phoenix_2.json',\n",
       " 'UT_SaltLakeCity_0.json',\n",
       " 'GA_Atlanta_2.json',\n",
       " 'OK_OklahomaCity_2.json',\n",
       " 'NJ_Trenton_3.json',\n",
       " 'NJ_Trenton_0.json',\n",
       " 'TN_Nashville_0.json',\n",
       " 'MS_Jackson_0.json',\n",
       " 'OR_Salem_2.json',\n",
       " 'ID_Boise_1.json',\n",
       " 'IA_DesMoines_4.json',\n",
       " 'MA_Boston_1.json',\n",
       " 'IN_Indianapolis_0.json',\n",
       " 'ME_Augusta_1.json',\n",
       " 'CA_Sacramento_4.json',\n",
       " 'MA_Boston_4.json',\n",
       " 'KY_Frankfort_2.json',\n",
       " 'DE_Dover_3.json',\n",
       " 'MI_Lansing_1.json',\n",
       " 'NJ_Trenton_1.json',\n",
       " 'NV_CarsonCity_1.json',\n",
       " 'ND_Bismarck_4.json',\n",
       " 'CT_Hartford_0.json',\n",
       " 'ID_Boise_4.json',\n",
       " 'IN_Indianapolis_4.json',\n",
       " 'CO_Denver_4.json',\n",
       " 'ND_Bismarck_2.json',\n",
       " 'KY_Frankfort_0.json']"
      ]
     },
     "execution_count": 17,
     "metadata": {},
     "output_type": "execute_result"
    }
   ],
   "source": [
    "myJSONFramer.file_list"
   ]
  },
  {
   "cell_type": "code",
   "execution_count": 18,
   "metadata": {},
   "outputs": [],
   "source": [
    "myJSONFramer.frame()"
   ]
  },
  {
   "cell_type": "code",
   "execution_count": 19,
   "metadata": {},
   "outputs": [],
   "source": [
    "all_data = myJSONFramer.dataframe"
   ]
  },
  {
   "cell_type": "code",
   "execution_count": 20,
   "metadata": {},
   "outputs": [
    {
     "name": "stdout",
     "output_type": "stream",
     "text": [
      "<class 'pandas.core.frame.DataFrame'>\n",
      "Index: 8159 entries, 0 to 41\n",
      "Data columns (total 45 columns):\n",
      " #   Column                 Non-Null Count  Dtype  \n",
      "---  ------                 --------------  -----  \n",
      " 0   branding_name          7910 non-null   object \n",
      " 1   baths                  7980 non-null   float64\n",
      " 2   baths_1qtr             0 non-null      object \n",
      " 3   baths_3qr              0 non-null      object \n",
      " 4   baths_full             7311 non-null   object \n",
      " 5   baths_half             2281 non-null   object \n",
      " 6   beds                   7504 non-null   object \n",
      " 7   garage                 4448 non-null   object \n",
      " 8   lot_sqft               6991 non-null   object \n",
      " 9   name                   0 non-null      object \n",
      " 10  sold_date              8159 non-null   object \n",
      " 11  sold_price             6716 non-null   object \n",
      " 12  sqft                   7323 non-null   object \n",
      " 13  stories                6260 non-null   object \n",
      " 14  sub_type               1427 non-null   object \n",
      " 15  type                   8125 non-null   object \n",
      " 16  year_built             7316 non-null   object \n",
      " 17  is_coming_soon         0 non-null      object \n",
      " 18  is_contingent          0 non-null      object \n",
      " 19  is_for_rent            0 non-null      object \n",
      " 20  is_foreclosure         42 non-null     object \n",
      " 21  is_new_construction    0 non-null      object \n",
      " 22  is_new_listing         7752 non-null   object \n",
      " 23  is_pending             0 non-null      object \n",
      " 24  is_plan                0 non-null      object \n",
      " 25  is_price_reduced       2484 non-null   object \n",
      " 26  is_subdivision         0 non-null      object \n",
      " 27  last_update_date       8125 non-null   object \n",
      " 28  show_contact_an_agent  8159 non-null   bool   \n",
      " 29  list_date              7752 non-null   object \n",
      " 30  list_price             7721 non-null   object \n",
      " 31  listing_id             7752 non-null   object \n",
      " 32  city                   8154 non-null   object \n",
      " 33  lat                    7909 non-null   object \n",
      " 34  lon                    7909 non-null   object \n",
      " 35  line                   8144 non-null   object \n",
      " 36  postal_code            8159 non-null   object \n",
      " 37  state                  8159 non-null   object \n",
      " 38  state_code             8159 non-null   object \n",
      " 39  open_houses            0 non-null      object \n",
      " 40  price_reduced_amount   2484 non-null   object \n",
      " 41  brand_name             7673 non-null   object \n",
      " 42  property_id            8159 non-null   object \n",
      " 43  status                 8159 non-null   object \n",
      " 44  tags                   7638 non-null   object \n",
      "dtypes: bool(1), float64(1), object(43)\n",
      "memory usage: 2.8+ MB\n"
     ]
    }
   ],
   "source": [
    "all_data.info()"
   ]
  },
  {
   "cell_type": "markdown",
   "metadata": {},
   "source": [
    "At this point, ensure that you have all sales in a dataframe.\n",
    "- Is each cell one value, or do some cells have lists?\n",
    "- Maybe the \"tags\" will help create some features.\n",
    "- What are the data types of each column?\n",
    "- Some sales may not actually include the sale price.  These rows should be dropped.\n",
    "- Some sales don't include the property type.\n",
    "- There are a lot of None values.  Should these be dropped or replaced with something?"
   ]
  },
  {
   "cell_type": "code",
   "execution_count": 10,
   "metadata": {},
   "outputs": [],
   "source": [
    "# load and concatenate data here\n",
    "# drop or replace values as necessary"
   ]
  },
  {
   "cell_type": "markdown",
   "metadata": {},
   "source": [
    "Consider the fact that with tags, there are a lot of categorical variables.\n",
    "- How many columns would we have if we OHE tags, city and state?\n",
    "- Perhaps we can get rid of tags that have a low frequency."
   ]
  },
  {
   "cell_type": "code",
   "execution_count": 11,
   "metadata": {},
   "outputs": [],
   "source": [
    "# OHE categorical variables here\n",
    "# tags will have to be done manually"
   ]
  },
  {
   "cell_type": "markdown",
   "metadata": {},
   "source": [
    "- Sales will vary drastically between cities and states.  Is there a way to keep information about which city it is without OHE such as using central tendency?\n",
    "- Could we label encode or ordinal encode?  Yes, but this may have undesirable effects, giving nominal data ordinal values.\n",
    "- If you replace cities or states with numerical values, make sure that the data is split so that we don't leak data into the training selection. This is a great time to train test split. Compute on the training data, and join these values to the test data\n",
    "- Drop columns that aren't needed.\n",
    "- Don't keep the list price because it will be too close to the sale price."
   ]
  },
  {
   "cell_type": "code",
   "execution_count": 12,
   "metadata": {},
   "outputs": [],
   "source": [
    "# perform train test split here\n",
    "# do something with state and city\n",
    "# drop any other not needed columns"
   ]
  },
  {
   "cell_type": "markdown",
   "metadata": {},
   "source": [
    "**STRETCH**\n",
    "\n",
    "- You're not limited to just using the data provided to you. Think/ do some research about other features that might be useful to predict housing prices. \n",
    "- Can you import and join this data? Make sure you do any necessary preprocessing and make sure it is joined correctly.\n",
    "- Example suggestion: could mortgage interest rates in the year of the listing affect the price? "
   ]
  },
  {
   "cell_type": "code",
   "execution_count": 13,
   "metadata": {},
   "outputs": [],
   "source": [
    "# import, join and preprocess new data here"
   ]
  },
  {
   "cell_type": "markdown",
   "metadata": {},
   "source": [
    "Remember all of the EDA that you've been learning about?  Now is a perfect time for it!\n",
    "- Look at distributions of numerical variables to see the shape of the data and detect outliers.\n",
    "- Scatterplots of a numerical variable and the target go a long way to show correlations.\n",
    "- A heatmap will help detect highly correlated features, and we don't want these.\n",
    "- Is there any overlap in any of the features? (redundant information, like number of this or that room...)"
   ]
  },
  {
   "cell_type": "code",
   "execution_count": 14,
   "metadata": {},
   "outputs": [],
   "source": [
    "# perform EDA here"
   ]
  },
  {
   "cell_type": "markdown",
   "metadata": {},
   "source": [
    "Now is a great time to scale the data and save it once it's preprocessed.\n",
    "- You can save it in your data folder, but you may want to make a new `processed/` subfolder to keep it organized"
   ]
  },
  {
   "cell_type": "code",
   "execution_count": null,
   "metadata": {},
   "outputs": [],
   "source": []
  }
 ],
 "metadata": {
  "kernelspec": {
   "display_name": "Python 3 (ipykernel)",
   "language": "python",
   "name": "python3"
  },
  "language_info": {
   "codemirror_mode": {
    "name": "ipython",
    "version": 3
   },
   "file_extension": ".py",
   "mimetype": "text/x-python",
   "name": "python",
   "nbconvert_exporter": "python",
   "pygments_lexer": "ipython3",
   "version": "3.11.5"
  }
 },
 "nbformat": 4,
 "nbformat_minor": 4
}
