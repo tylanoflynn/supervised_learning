{
 "cells": [
  {
   "cell_type": "code",
   "execution_count": 253,
   "metadata": {},
   "outputs": [
    {
     "name": "stdout",
     "output_type": "stream",
     "text": [
      "1584\n",
      "(1584, 74)\n",
      "<class 'pandas.core.frame.DataFrame'>\n",
      "RangeIndex: 1584 entries, 0 to 1583\n",
      "Data columns (total 74 columns):\n",
      " #   Column                       Non-Null Count  Dtype  \n",
      "---  ------                       --------------  -----  \n",
      " 0   baths                        1584 non-null   int64  \n",
      " 1   baths_full                   1584 non-null   int64  \n",
      " 2   baths_half                   1584 non-null   int64  \n",
      " 3   beds                         1584 non-null   int64  \n",
      " 4   garage                       1584 non-null   int64  \n",
      " 5   lot_sqft                     1584 non-null   float64\n",
      " 6   sold_price                   1584 non-null   float64\n",
      " 7   sqft                         1584 non-null   float64\n",
      " 8   stories                      1584 non-null   int64  \n",
      " 9   type                         1584 non-null   object \n",
      " 10  year_built                   1584 non-null   int64  \n",
      " 11  is_price_reduced             1584 non-null   bool   \n",
      " 12  city                         1584 non-null   object \n",
      " 13  lat                          1584 non-null   float64\n",
      " 14  lon                          1584 non-null   float64\n",
      " 15  postal_code                  1584 non-null   int64  \n",
      " 16  state                        1584 non-null   object \n",
      " 17  state_code                   1584 non-null   object \n",
      " 18  property_id                  1584 non-null   int64  \n",
      " 19  basement                     1584 non-null   int64  \n",
      " 20  big_lot                      1584 non-null   int64  \n",
      " 21  big_yard                     1584 non-null   int64  \n",
      " 22  carport                      1584 non-null   int64  \n",
      " 23  central_air                  1584 non-null   int64  \n",
      " 24  central_heat                 1584 non-null   int64  \n",
      " 25  city_view                    1584 non-null   int64  \n",
      " 26  community_outdoor_space      1584 non-null   int64  \n",
      " 27  community_security_features  1584 non-null   int64  \n",
      " 28  community_swimming_pool      1584 non-null   int64  \n",
      " 29  corner_lot                   1584 non-null   int64  \n",
      " 30  dining_room                  1584 non-null   int64  \n",
      " 31  dishwasher                   1584 non-null   int64  \n",
      " 32  energy_efficient             1584 non-null   int64  \n",
      " 33  ensuite                      1584 non-null   int64  \n",
      " 34  family_room                  1584 non-null   int64  \n",
      " 35  farm                         1584 non-null   int64  \n",
      " 36  fenced_yard                  1584 non-null   int64  \n",
      " 37  fireplace                    1584 non-null   int64  \n",
      " 38  floor_plan                   1584 non-null   int64  \n",
      " 39  forced_air                   1584 non-null   int64  \n",
      " 40  front_porch                  1584 non-null   int64  \n",
      " 41  garage_1_or_more             1584 non-null   int64  \n",
      " 42  garage_2_or_more             1584 non-null   int64  \n",
      " 43  garage_3_or_more             1584 non-null   int64  \n",
      " 44  groundscare                  1584 non-null   int64  \n",
      " 45  hardwood_floors              1584 non-null   int64  \n",
      " 46  high_ceiling                 1584 non-null   int64  \n",
      " 47  hill_or_mountain_view        1584 non-null   int64  \n",
      " 48  laundry_room                 1584 non-null   int64  \n",
      " 49  master_bedroom               1584 non-null   int64  \n",
      " 50  modern_kitchen               1584 non-null   int64  \n",
      " 51  new_roof                     1584 non-null   int64  \n",
      " 52  open_floor_plan              1584 non-null   int64  \n",
      " 53  park                         1584 non-null   int64  \n",
      " 54  ranch                        1584 non-null   int64  \n",
      " 55  recreation_facilities        1584 non-null   int64  \n",
      " 56  rental_property              1584 non-null   int64  \n",
      " 57  shopping                     1584 non-null   int64  \n",
      " 58  single_story                 1584 non-null   int64  \n",
      " 59  swimming_pool                1584 non-null   int64  \n",
      " 60  trails                       1584 non-null   int64  \n",
      " 61  two_or_more_stories          1584 non-null   int64  \n",
      " 62  updated_kitchen              1584 non-null   int64  \n",
      " 63  view                         1584 non-null   int64  \n",
      " 64  views                        1584 non-null   int64  \n",
      " 65  washer_dryer                 1584 non-null   int64  \n",
      " 66  sold_month                   1584 non-null   int64  \n",
      " 67  sold_year                    1584 non-null   int64  \n",
      " 68  list_month                   1584 non-null   int64  \n",
      " 69  list_year                    1584 non-null   int64  \n",
      " 70  time_on_market               1584 non-null   int64  \n",
      " 71  Median Age                   1584 non-null   float64\n",
      " 72  Total Population             1584 non-null   float64\n",
      " 73  Average Household Size       1584 non-null   float64\n",
      "dtypes: bool(1), float64(8), int64(61), object(4)\n",
      "memory usage: 905.1+ KB\n"
     ]
    }
   ],
   "source": [
    "import pandas as pd\n",
    "import numpy as np\n",
    "import sklearn\n",
    "\n",
    "from sklearn.pipeline import Pipeline, FeatureUnion\n",
    "from sklearn.feature_selection import SelectKBest\n",
    "from sklearn.preprocessing import FunctionTransformer, MinMaxScaler, OneHotEncoder, StandardScaler\n",
    "from sklearn.impute import SimpleImputer\n",
    "from sklearn.model_selection import GridSearchCV, train_test_split\n",
    "from sklearn.metrics import r2_score\n",
    "from sklearn.metrics import mean_squared_error\n",
    "\n",
    "from sklearn.linear_model import Ridge, Lasso\n",
    "from sklearn.ensemble import RandomForestRegressor, GradientBoostingRegressor\n",
    "import xgboost as xgb\n",
    "\n",
    "from modules.TargetAverager import TargetAverager\n",
    "from modules.Probe import Probe\n",
    "\n",
    "\n",
    "# sklearn.set_config(transform_output='pandas')\n",
    "\n",
    "\n",
    "pd.set_option('display.max_columns', 500)\n",
    "pd.set_option('display.max_rows', 500)\n",
    "\n",
    "df = pd.read_csv(\"../house_sales.csv\")\n",
    "\n",
    "print(df['property_id'].nunique())\n",
    "print(df.shape)\n",
    "df.info()"
   ]
  },
  {
   "cell_type": "markdown",
   "metadata": {},
   "source": []
  },
  {
   "cell_type": "code",
   "execution_count": 254,
   "metadata": {},
   "outputs": [
    {
     "name": "stdout",
     "output_type": "stream",
     "text": [
      "69\n"
     ]
    }
   ],
   "source": [
    "y = df[\"sold_price\"]\n",
    "X = df.drop([\"sold_price\", \"property_id\", \"state_code\", 'lat','postal_code'], axis=1)\n",
    "\n",
    "X_train, X_test, y_train, y_test = train_test_split(X, y, test_size=0.20, random_state=42)\n",
    "\n",
    "print(X.shape[1])"
   ]
  },
  {
   "cell_type": "code",
   "execution_count": 255,
   "metadata": {},
   "outputs": [],
   "source": [
    "def numFeat(data):\n",
    "    filter = data.dtypes[[pd.api.types.is_numeric_dtype(dtype) for dtype in data.dtypes]].index.tolist()\n",
    "    return data[filter]\n",
    "\n",
    "def catFeat(data):\n",
    "    filter = data.dtypes[data.dtypes == 'object'].index.tolist()\n",
    "    return data[filter]\n",
    "\n",
    "\n",
    "keep_num = FunctionTransformer(numFeat)\n",
    "keep_cat = FunctionTransformer(catFeat)"
   ]
  },
  {
   "cell_type": "code",
   "execution_count": 256,
   "metadata": {},
   "outputs": [],
   "source": [
    "# mlb = MultiLabelBinarizer()\n",
    "minmax_scaler = MinMaxScaler()\n",
    "standard_scaler = StandardScaler()\n",
    "cat_imputer = SimpleImputer()\n",
    "num_imputer = SimpleImputer()\n",
    "class_encoder = OneHotEncoder()\n",
    "city_averager = TargetAverager(\"city\")\n",
    "state_averager = TargetAverager(\"state\")\n",
    "skbest = SelectKBest(k = 12)"
   ]
  },
  {
   "cell_type": "code",
   "execution_count": 257,
   "metadata": {},
   "outputs": [],
   "source": [
    "class ToDenseTransformer:\n",
    "    def transform(self, X, y=None, **fit_params):\n",
    "        return X.toarray()\n",
    "\n",
    "    def fit(self, X, y=None, **fit_params):\n",
    "        return self\n",
    "\n",
    "densifier = ToDenseTransformer()"
   ]
  },
  {
   "cell_type": "code",
   "execution_count": 258,
   "metadata": {},
   "outputs": [],
   "source": [
    "# Potential models\n",
    "ridge_model = Ridge()\n",
    "lasso_model = Lasso()\n",
    "rf_model = RandomForestRegressor(n_estimators=100)\n",
    "gb_model = GradientBoostingRegressor(n_estimators=50, learning_rate=0.01)\n",
    "xgb_model = xgb.XGBRegressor()"
   ]
  },
  {
   "cell_type": "code",
   "execution_count": 259,
   "metadata": {},
   "outputs": [],
   "source": [
    "num_pipe = Pipeline([\n",
    "    ('NumFilter', keep_num),\n",
    "    # ('Scaler', standard_scaler),\n",
    "    ('Imputer', num_imputer),\n",
    "    (\"skbest\", skbest)\n",
    "])\n",
    "\n",
    "cat_pipe = Pipeline([\n",
    "    ('CatFilter', keep_cat),\n",
    "    ('OHEncoder', class_encoder),\n",
    "    # ('Densifier', densifier),\n",
    "    # ('Imputer', cat_imputer)\n",
    "])\n",
    "\n",
    "# list_pipe = Pipeline([\n",
    "#     ('ListFilter', keep_list),\n",
    "#     ('MultiLabelBinarizer', mlb),\n",
    "#     ('Imputer', imputer)\n",
    "# ])\n",
    "\n",
    "pre_processing_pipeline = FeatureUnion([(\"num\", num_pipe), (\"cat\", cat_pipe)])"
   ]
  },
  {
   "cell_type": "code",
   "execution_count": 260,
   "metadata": {},
   "outputs": [],
   "source": [
    "pipeline = Pipeline([(\"CityAverager\", city_averager), (\"StateAverager\", state_averager), (\"preprocessing\", pre_processing_pipeline), (\"model\", rf_model)])"
   ]
  },
  {
   "cell_type": "code",
   "execution_count": 261,
   "metadata": {},
   "outputs": [
    {
     "data": {
      "text/html": [
       "<style>#sk-container-id-17 {color: black;}#sk-container-id-17 pre{padding: 0;}#sk-container-id-17 div.sk-toggleable {background-color: white;}#sk-container-id-17 label.sk-toggleable__label {cursor: pointer;display: block;width: 100%;margin-bottom: 0;padding: 0.3em;box-sizing: border-box;text-align: center;}#sk-container-id-17 label.sk-toggleable__label-arrow:before {content: \"▸\";float: left;margin-right: 0.25em;color: #696969;}#sk-container-id-17 label.sk-toggleable__label-arrow:hover:before {color: black;}#sk-container-id-17 div.sk-estimator:hover label.sk-toggleable__label-arrow:before {color: black;}#sk-container-id-17 div.sk-toggleable__content {max-height: 0;max-width: 0;overflow: hidden;text-align: left;background-color: #f0f8ff;}#sk-container-id-17 div.sk-toggleable__content pre {margin: 0.2em;color: black;border-radius: 0.25em;background-color: #f0f8ff;}#sk-container-id-17 input.sk-toggleable__control:checked~div.sk-toggleable__content {max-height: 200px;max-width: 100%;overflow: auto;}#sk-container-id-17 input.sk-toggleable__control:checked~label.sk-toggleable__label-arrow:before {content: \"▾\";}#sk-container-id-17 div.sk-estimator input.sk-toggleable__control:checked~label.sk-toggleable__label {background-color: #d4ebff;}#sk-container-id-17 div.sk-label input.sk-toggleable__control:checked~label.sk-toggleable__label {background-color: #d4ebff;}#sk-container-id-17 input.sk-hidden--visually {border: 0;clip: rect(1px 1px 1px 1px);clip: rect(1px, 1px, 1px, 1px);height: 1px;margin: -1px;overflow: hidden;padding: 0;position: absolute;width: 1px;}#sk-container-id-17 div.sk-estimator {font-family: monospace;background-color: #f0f8ff;border: 1px dotted black;border-radius: 0.25em;box-sizing: border-box;margin-bottom: 0.5em;}#sk-container-id-17 div.sk-estimator:hover {background-color: #d4ebff;}#sk-container-id-17 div.sk-parallel-item::after {content: \"\";width: 100%;border-bottom: 1px solid gray;flex-grow: 1;}#sk-container-id-17 div.sk-label:hover label.sk-toggleable__label {background-color: #d4ebff;}#sk-container-id-17 div.sk-serial::before {content: \"\";position: absolute;border-left: 1px solid gray;box-sizing: border-box;top: 0;bottom: 0;left: 50%;z-index: 0;}#sk-container-id-17 div.sk-serial {display: flex;flex-direction: column;align-items: center;background-color: white;padding-right: 0.2em;padding-left: 0.2em;position: relative;}#sk-container-id-17 div.sk-item {position: relative;z-index: 1;}#sk-container-id-17 div.sk-parallel {display: flex;align-items: stretch;justify-content: center;background-color: white;position: relative;}#sk-container-id-17 div.sk-item::before, #sk-container-id-17 div.sk-parallel-item::before {content: \"\";position: absolute;border-left: 1px solid gray;box-sizing: border-box;top: 0;bottom: 0;left: 50%;z-index: -1;}#sk-container-id-17 div.sk-parallel-item {display: flex;flex-direction: column;z-index: 1;position: relative;background-color: white;}#sk-container-id-17 div.sk-parallel-item:first-child::after {align-self: flex-end;width: 50%;}#sk-container-id-17 div.sk-parallel-item:last-child::after {align-self: flex-start;width: 50%;}#sk-container-id-17 div.sk-parallel-item:only-child::after {width: 0;}#sk-container-id-17 div.sk-dashed-wrapped {border: 1px dashed gray;margin: 0 0.4em 0.5em 0.4em;box-sizing: border-box;padding-bottom: 0.4em;background-color: white;}#sk-container-id-17 div.sk-label label {font-family: monospace;font-weight: bold;display: inline-block;line-height: 1.2em;}#sk-container-id-17 div.sk-label-container {text-align: center;}#sk-container-id-17 div.sk-container {/* jupyter's `normalize.less` sets `[hidden] { display: none; }` but bootstrap.min.css set `[hidden] { display: none !important; }` so we also need the `!important` here to be able to override the default hidden behavior on the sphinx rendered scikit-learn.org. See: https://github.com/scikit-learn/scikit-learn/issues/21755 */display: inline-block !important;position: relative;}#sk-container-id-17 div.sk-text-repr-fallback {display: none;}</style><div id=\"sk-container-id-17\" class=\"sk-top-container\"><div class=\"sk-text-repr-fallback\"><pre>Pipeline(steps=[(&#x27;CityAverager&#x27;, TargetAverager(group_by_feature=&#x27;city&#x27;)),\n",
       "                (&#x27;StateAverager&#x27;, TargetAverager(group_by_feature=&#x27;state&#x27;)),\n",
       "                (&#x27;preprocessing&#x27;,\n",
       "                 FeatureUnion(transformer_list=[(&#x27;num&#x27;,\n",
       "                                                 Pipeline(steps=[(&#x27;NumFilter&#x27;,\n",
       "                                                                  FunctionTransformer(func=&lt;function numFeat at 0x7faf679a7420&gt;)),\n",
       "                                                                 (&#x27;Imputer&#x27;,\n",
       "                                                                  SimpleImputer()),\n",
       "                                                                 (&#x27;skbest&#x27;,\n",
       "                                                                  SelectKBest(k=12))])),\n",
       "                                                (&#x27;cat&#x27;,\n",
       "                                                 Pipeline(steps=[(&#x27;CatFilter&#x27;,\n",
       "                                                                  FunctionTransformer(func=&lt;function catFeat at 0x7faf679a68e0&gt;)),\n",
       "                                                                 (&#x27;OHEncoder&#x27;,\n",
       "                                                                  OneHotEncoder())]))])),\n",
       "                (&#x27;model&#x27;, RandomForestRegressor())])</pre><b>In a Jupyter environment, please rerun this cell to show the HTML representation or trust the notebook. <br />On GitHub, the HTML representation is unable to render, please try loading this page with nbviewer.org.</b></div><div class=\"sk-container\" hidden><div class=\"sk-item sk-dashed-wrapped\"><div class=\"sk-label-container\"><div class=\"sk-label sk-toggleable\"><input class=\"sk-toggleable__control sk-hidden--visually\" id=\"sk-estimator-id-166\" type=\"checkbox\" ><label for=\"sk-estimator-id-166\" class=\"sk-toggleable__label sk-toggleable__label-arrow\">Pipeline</label><div class=\"sk-toggleable__content\"><pre>Pipeline(steps=[(&#x27;CityAverager&#x27;, TargetAverager(group_by_feature=&#x27;city&#x27;)),\n",
       "                (&#x27;StateAverager&#x27;, TargetAverager(group_by_feature=&#x27;state&#x27;)),\n",
       "                (&#x27;preprocessing&#x27;,\n",
       "                 FeatureUnion(transformer_list=[(&#x27;num&#x27;,\n",
       "                                                 Pipeline(steps=[(&#x27;NumFilter&#x27;,\n",
       "                                                                  FunctionTransformer(func=&lt;function numFeat at 0x7faf679a7420&gt;)),\n",
       "                                                                 (&#x27;Imputer&#x27;,\n",
       "                                                                  SimpleImputer()),\n",
       "                                                                 (&#x27;skbest&#x27;,\n",
       "                                                                  SelectKBest(k=12))])),\n",
       "                                                (&#x27;cat&#x27;,\n",
       "                                                 Pipeline(steps=[(&#x27;CatFilter&#x27;,\n",
       "                                                                  FunctionTransformer(func=&lt;function catFeat at 0x7faf679a68e0&gt;)),\n",
       "                                                                 (&#x27;OHEncoder&#x27;,\n",
       "                                                                  OneHotEncoder())]))])),\n",
       "                (&#x27;model&#x27;, RandomForestRegressor())])</pre></div></div></div><div class=\"sk-serial\"><div class=\"sk-item\"><div class=\"sk-estimator sk-toggleable\"><input class=\"sk-toggleable__control sk-hidden--visually\" id=\"sk-estimator-id-167\" type=\"checkbox\" ><label for=\"sk-estimator-id-167\" class=\"sk-toggleable__label sk-toggleable__label-arrow\">TargetAverager</label><div class=\"sk-toggleable__content\"><pre>TargetAverager(group_by_feature=&#x27;city&#x27;)</pre></div></div></div><div class=\"sk-item\"><div class=\"sk-estimator sk-toggleable\"><input class=\"sk-toggleable__control sk-hidden--visually\" id=\"sk-estimator-id-168\" type=\"checkbox\" ><label for=\"sk-estimator-id-168\" class=\"sk-toggleable__label sk-toggleable__label-arrow\">TargetAverager</label><div class=\"sk-toggleable__content\"><pre>TargetAverager(group_by_feature=&#x27;state&#x27;)</pre></div></div></div><div class=\"sk-item sk-dashed-wrapped\"><div class=\"sk-label-container\"><div class=\"sk-label sk-toggleable\"><input class=\"sk-toggleable__control sk-hidden--visually\" id=\"sk-estimator-id-169\" type=\"checkbox\" ><label for=\"sk-estimator-id-169\" class=\"sk-toggleable__label sk-toggleable__label-arrow\">preprocessing: FeatureUnion</label><div class=\"sk-toggleable__content\"><pre>FeatureUnion(transformer_list=[(&#x27;num&#x27;,\n",
       "                                Pipeline(steps=[(&#x27;NumFilter&#x27;,\n",
       "                                                 FunctionTransformer(func=&lt;function numFeat at 0x7faf679a7420&gt;)),\n",
       "                                                (&#x27;Imputer&#x27;, SimpleImputer()),\n",
       "                                                (&#x27;skbest&#x27;,\n",
       "                                                 SelectKBest(k=12))])),\n",
       "                               (&#x27;cat&#x27;,\n",
       "                                Pipeline(steps=[(&#x27;CatFilter&#x27;,\n",
       "                                                 FunctionTransformer(func=&lt;function catFeat at 0x7faf679a68e0&gt;)),\n",
       "                                                (&#x27;OHEncoder&#x27;,\n",
       "                                                 OneHotEncoder())]))])</pre></div></div></div><div class=\"sk-parallel\"><div class=\"sk-parallel-item\"><div class=\"sk-item\"><div class=\"sk-label-container\"><div class=\"sk-label sk-toggleable\"><label>num</label></div></div><div class=\"sk-serial\"><div class=\"sk-item\"><div class=\"sk-serial\"><div class=\"sk-item\"><div class=\"sk-estimator sk-toggleable\"><input class=\"sk-toggleable__control sk-hidden--visually\" id=\"sk-estimator-id-170\" type=\"checkbox\" ><label for=\"sk-estimator-id-170\" class=\"sk-toggleable__label sk-toggleable__label-arrow\">FunctionTransformer</label><div class=\"sk-toggleable__content\"><pre>FunctionTransformer(func=&lt;function numFeat at 0x7faf679a7420&gt;)</pre></div></div></div><div class=\"sk-item\"><div class=\"sk-estimator sk-toggleable\"><input class=\"sk-toggleable__control sk-hidden--visually\" id=\"sk-estimator-id-171\" type=\"checkbox\" ><label for=\"sk-estimator-id-171\" class=\"sk-toggleable__label sk-toggleable__label-arrow\">SimpleImputer</label><div class=\"sk-toggleable__content\"><pre>SimpleImputer()</pre></div></div></div><div class=\"sk-item\"><div class=\"sk-estimator sk-toggleable\"><input class=\"sk-toggleable__control sk-hidden--visually\" id=\"sk-estimator-id-172\" type=\"checkbox\" ><label for=\"sk-estimator-id-172\" class=\"sk-toggleable__label sk-toggleable__label-arrow\">SelectKBest</label><div class=\"sk-toggleable__content\"><pre>SelectKBest(k=12)</pre></div></div></div></div></div></div></div></div><div class=\"sk-parallel-item\"><div class=\"sk-item\"><div class=\"sk-label-container\"><div class=\"sk-label sk-toggleable\"><label>cat</label></div></div><div class=\"sk-serial\"><div class=\"sk-item\"><div class=\"sk-serial\"><div class=\"sk-item\"><div class=\"sk-estimator sk-toggleable\"><input class=\"sk-toggleable__control sk-hidden--visually\" id=\"sk-estimator-id-173\" type=\"checkbox\" ><label for=\"sk-estimator-id-173\" class=\"sk-toggleable__label sk-toggleable__label-arrow\">FunctionTransformer</label><div class=\"sk-toggleable__content\"><pre>FunctionTransformer(func=&lt;function catFeat at 0x7faf679a68e0&gt;)</pre></div></div></div><div class=\"sk-item\"><div class=\"sk-estimator sk-toggleable\"><input class=\"sk-toggleable__control sk-hidden--visually\" id=\"sk-estimator-id-174\" type=\"checkbox\" ><label for=\"sk-estimator-id-174\" class=\"sk-toggleable__label sk-toggleable__label-arrow\">OneHotEncoder</label><div class=\"sk-toggleable__content\"><pre>OneHotEncoder()</pre></div></div></div></div></div></div></div></div></div></div><div class=\"sk-item\"><div class=\"sk-estimator sk-toggleable\"><input class=\"sk-toggleable__control sk-hidden--visually\" id=\"sk-estimator-id-175\" type=\"checkbox\" ><label for=\"sk-estimator-id-175\" class=\"sk-toggleable__label sk-toggleable__label-arrow\">RandomForestRegressor</label><div class=\"sk-toggleable__content\"><pre>RandomForestRegressor()</pre></div></div></div></div></div></div></div>"
      ],
      "text/plain": [
       "Pipeline(steps=[('CityAverager', TargetAverager(group_by_feature='city')),\n",
       "                ('StateAverager', TargetAverager(group_by_feature='state')),\n",
       "                ('preprocessing',\n",
       "                 FeatureUnion(transformer_list=[('num',\n",
       "                                                 Pipeline(steps=[('NumFilter',\n",
       "                                                                  FunctionTransformer(func=<function numFeat at 0x7faf679a7420>)),\n",
       "                                                                 ('Imputer',\n",
       "                                                                  SimpleImputer()),\n",
       "                                                                 ('skbest',\n",
       "                                                                  SelectKBest(k=12))])),\n",
       "                                                ('cat',\n",
       "                                                 Pipeline(steps=[('CatFilter',\n",
       "                                                                  FunctionTransformer(func=<function catFeat at 0x7faf679a68e0>)),\n",
       "                                                                 ('OHEncoder',\n",
       "                                                                  OneHotEncoder())]))])),\n",
       "                ('model', RandomForestRegressor())])"
      ]
     },
     "execution_count": 261,
     "metadata": {},
     "output_type": "execute_result"
    }
   ],
   "source": [
    "pipeline.fit(X_train, y_train)"
   ]
  },
  {
   "cell_type": "code",
   "execution_count": 262,
   "metadata": {},
   "outputs": [
    {
     "name": "stdout",
     "output_type": "stream",
     "text": [
      "['x0' 'x1' 'x6' 'x7' 'x8' 'x35' 'x38' 'x39' 'x51' 'x56' 'x66' 'x67']\n",
      "<class 'pandas.core.frame.DataFrame'>\n",
      "Index: 1267 entries, 552 to 1126\n",
      "Data columns (total 69 columns):\n",
      " #   Column                       Non-Null Count  Dtype  \n",
      "---  ------                       --------------  -----  \n",
      " 0   baths                        1267 non-null   int64  \n",
      " 1   baths_full                   1267 non-null   int64  \n",
      " 2   baths_half                   1267 non-null   int64  \n",
      " 3   beds                         1267 non-null   int64  \n",
      " 4   garage                       1267 non-null   int64  \n",
      " 5   lot_sqft                     1267 non-null   float64\n",
      " 6   sqft                         1267 non-null   float64\n",
      " 7   stories                      1267 non-null   int64  \n",
      " 8   type                         1267 non-null   object \n",
      " 9   year_built                   1267 non-null   int64  \n",
      " 10  is_price_reduced             1267 non-null   bool   \n",
      " 11  city                         1267 non-null   object \n",
      " 12  lon                          1267 non-null   float64\n",
      " 13  state                        1267 non-null   object \n",
      " 14  basement                     1267 non-null   int64  \n",
      " 15  big_lot                      1267 non-null   int64  \n",
      " 16  big_yard                     1267 non-null   int64  \n",
      " 17  carport                      1267 non-null   int64  \n",
      " 18  central_air                  1267 non-null   int64  \n",
      " 19  central_heat                 1267 non-null   int64  \n",
      " 20  city_view                    1267 non-null   int64  \n",
      " 21  community_outdoor_space      1267 non-null   int64  \n",
      " 22  community_security_features  1267 non-null   int64  \n",
      " 23  community_swimming_pool      1267 non-null   int64  \n",
      " 24  corner_lot                   1267 non-null   int64  \n",
      " 25  dining_room                  1267 non-null   int64  \n",
      " 26  dishwasher                   1267 non-null   int64  \n",
      " 27  energy_efficient             1267 non-null   int64  \n",
      " 28  ensuite                      1267 non-null   int64  \n",
      " 29  family_room                  1267 non-null   int64  \n",
      " 30  farm                         1267 non-null   int64  \n",
      " 31  fenced_yard                  1267 non-null   int64  \n",
      " 32  fireplace                    1267 non-null   int64  \n",
      " 33  floor_plan                   1267 non-null   int64  \n",
      " 34  forced_air                   1267 non-null   int64  \n",
      " 35  front_porch                  1267 non-null   int64  \n",
      " 36  garage_1_or_more             1267 non-null   int64  \n",
      " 37  garage_2_or_more             1267 non-null   int64  \n",
      " 38  garage_3_or_more             1267 non-null   int64  \n",
      " 39  groundscare                  1267 non-null   int64  \n",
      " 40  hardwood_floors              1267 non-null   int64  \n",
      " 41  high_ceiling                 1267 non-null   int64  \n",
      " 42  hill_or_mountain_view        1267 non-null   int64  \n",
      " 43  laundry_room                 1267 non-null   int64  \n",
      " 44  master_bedroom               1267 non-null   int64  \n",
      " 45  modern_kitchen               1267 non-null   int64  \n",
      " 46  new_roof                     1267 non-null   int64  \n",
      " 47  open_floor_plan              1267 non-null   int64  \n",
      " 48  park                         1267 non-null   int64  \n",
      " 49  ranch                        1267 non-null   int64  \n",
      " 50  recreation_facilities        1267 non-null   int64  \n",
      " 51  rental_property              1267 non-null   int64  \n",
      " 52  shopping                     1267 non-null   int64  \n",
      " 53  single_story                 1267 non-null   int64  \n",
      " 54  swimming_pool                1267 non-null   int64  \n",
      " 55  trails                       1267 non-null   int64  \n",
      " 56  two_or_more_stories          1267 non-null   int64  \n",
      " 57  updated_kitchen              1267 non-null   int64  \n",
      " 58  view                         1267 non-null   int64  \n",
      " 59  views                        1267 non-null   int64  \n",
      " 60  washer_dryer                 1267 non-null   int64  \n",
      " 61  sold_month                   1267 non-null   int64  \n",
      " 62  sold_year                    1267 non-null   int64  \n",
      " 63  list_month                   1267 non-null   int64  \n",
      " 64  list_year                    1267 non-null   int64  \n",
      " 65  time_on_market               1267 non-null   int64  \n",
      " 66  Median Age                   1267 non-null   float64\n",
      " 67  Total Population             1267 non-null   float64\n",
      " 68  Average Household Size       1267 non-null   float64\n",
      "dtypes: bool(1), float64(6), int64(59), object(3)\n",
      "memory usage: 716.5+ KB\n",
      "None\n"
     ]
    }
   ],
   "source": [
    "print(skbest.get_feature_names_out())\n",
    "print(X_train.info())"
   ]
  },
  {
   "cell_type": "code",
   "execution_count": 263,
   "metadata": {},
   "outputs": [],
   "source": [
    "y_pred = pipeline.predict(X_test)"
   ]
  },
  {
   "cell_type": "markdown",
   "metadata": {},
   "source": []
  },
  {
   "cell_type": "code",
   "execution_count": 264,
   "metadata": {},
   "outputs": [
    {
     "name": "stdout",
     "output_type": "stream",
     "text": [
      "R2:0.6646226683383307\n",
      "RMSE:137557.39225120976\n"
     ]
    }
   ],
   "source": [
    "print(\"R2:\" + str(r2_score(y_test, y_pred)))\n",
    "print(\"RMSE:\" + str(mean_squared_error(y_test, y_pred, squared=False)))"
   ]
  },
  {
   "cell_type": "code",
   "execution_count": 265,
   "metadata": {},
   "outputs": [
    {
     "name": "stdout",
     "output_type": "stream",
     "text": [
      "Fitting 5 folds for each of 7 candidates, totalling 35 fits\n"
     ]
    },
    {
     "name": "stdout",
     "output_type": "stream",
     "text": [
      "[CV 1/5] END model=RandomForestRegressor(), model__min_samples_split=4, model__n_estimators=100, preprocessing__num__skbest__k=44;, score=-35167969887.837 total time=   1.6s\n",
      "[CV 2/5] END model=RandomForestRegressor(), model__min_samples_split=4, model__n_estimators=100, preprocessing__num__skbest__k=44;, score=-24335607318.455 total time=   1.5s\n",
      "[CV 3/5] END model=RandomForestRegressor(), model__min_samples_split=4, model__n_estimators=100, preprocessing__num__skbest__k=44;, score=-21931289482.981 total time=   1.4s\n",
      "[CV 4/5] END model=RandomForestRegressor(), model__min_samples_split=4, model__n_estimators=100, preprocessing__num__skbest__k=44;, score=-36242048886.994 total time=   1.5s\n",
      "[CV 5/5] END model=RandomForestRegressor(), model__min_samples_split=4, model__n_estimators=100, preprocessing__num__skbest__k=44;, score=-23757111499.395 total time=   1.5s\n",
      "[CV 1/5] END model=RandomForestRegressor(), model__min_samples_split=5, model__n_estimators=100, preprocessing__num__skbest__k=44;, score=-33817558922.540 total time=   1.4s\n",
      "[CV 2/5] END model=RandomForestRegressor(), model__min_samples_split=5, model__n_estimators=100, preprocessing__num__skbest__k=44;, score=-24201657496.686 total time=   1.4s\n",
      "[CV 3/5] END model=RandomForestRegressor(), model__min_samples_split=5, model__n_estimators=100, preprocessing__num__skbest__k=44;, score=-21714615708.941 total time=   1.3s\n",
      "[CV 4/5] END model=RandomForestRegressor(), model__min_samples_split=5, model__n_estimators=100, preprocessing__num__skbest__k=44;, score=-37580222460.343 total time=   1.4s\n",
      "[CV 5/5] END model=RandomForestRegressor(), model__min_samples_split=5, model__n_estimators=100, preprocessing__num__skbest__k=44;, score=-25019303618.135 total time=   1.4s\n",
      "[CV 1/5] END model=RandomForestRegressor(), model__min_samples_split=6, model__n_estimators=100, preprocessing__num__skbest__k=44;, score=-34821103902.649 total time=   1.3s\n",
      "[CV 2/5] END model=RandomForestRegressor(), model__min_samples_split=6, model__n_estimators=100, preprocessing__num__skbest__k=44;, score=-24205500789.923 total time=   1.3s\n",
      "[CV 3/5] END model=RandomForestRegressor(), model__min_samples_split=6, model__n_estimators=100, preprocessing__num__skbest__k=44;, score=-20511834369.584 total time=   1.2s\n",
      "[CV 4/5] END model=RandomForestRegressor(), model__min_samples_split=6, model__n_estimators=100, preprocessing__num__skbest__k=44;, score=-36777685765.621 total time=   1.3s\n",
      "[CV 5/5] END model=RandomForestRegressor(), model__min_samples_split=6, model__n_estimators=100, preprocessing__num__skbest__k=44;, score=-24854569394.949 total time=   1.2s\n",
      "[CV 1/5] END model=RandomForestRegressor(), model__min_samples_split=7, model__n_estimators=100, preprocessing__num__skbest__k=44;, score=-35086062701.556 total time=   1.2s\n",
      "[CV 2/5] END model=RandomForestRegressor(), model__min_samples_split=7, model__n_estimators=100, preprocessing__num__skbest__k=44;, score=-24564714937.937 total time=   1.2s\n",
      "[CV 3/5] END model=RandomForestRegressor(), model__min_samples_split=7, model__n_estimators=100, preprocessing__num__skbest__k=44;, score=-20507803173.268 total time=   1.2s\n",
      "[CV 4/5] END model=RandomForestRegressor(), model__min_samples_split=7, model__n_estimators=100, preprocessing__num__skbest__k=44;, score=-36632810195.678 total time=   1.3s\n",
      "[CV 5/5] END model=RandomForestRegressor(), model__min_samples_split=7, model__n_estimators=100, preprocessing__num__skbest__k=44;, score=-24819700206.789 total time=   1.2s\n",
      "[CV 1/5] END model=RandomForestRegressor(), model__min_samples_split=8, model__n_estimators=100, preprocessing__num__skbest__k=44;, score=-35465211474.691 total time=   1.1s\n",
      "[CV 2/5] END model=RandomForestRegressor(), model__min_samples_split=8, model__n_estimators=100, preprocessing__num__skbest__k=44;, score=-23755254101.689 total time=   1.2s\n",
      "[CV 3/5] END model=RandomForestRegressor(), model__min_samples_split=8, model__n_estimators=100, preprocessing__num__skbest__k=44;, score=-20587667301.581 total time=   1.1s\n",
      "[CV 4/5] END model=RandomForestRegressor(), model__min_samples_split=8, model__n_estimators=100, preprocessing__num__skbest__k=44;, score=-35803937389.372 total time=   1.1s\n",
      "[CV 5/5] END model=RandomForestRegressor(), model__min_samples_split=8, model__n_estimators=100, preprocessing__num__skbest__k=44;, score=-25199439208.482 total time=   1.1s\n",
      "[CV 1/5] END model=RandomForestRegressor(), model__min_samples_split=9, model__n_estimators=100, preprocessing__num__skbest__k=44;, score=-34963280075.196 total time=   1.1s\n",
      "[CV 2/5] END model=RandomForestRegressor(), model__min_samples_split=9, model__n_estimators=100, preprocessing__num__skbest__k=44;, score=-24162370438.774 total time=   1.1s\n",
      "[CV 3/5] END model=RandomForestRegressor(), model__min_samples_split=9, model__n_estimators=100, preprocessing__num__skbest__k=44;, score=-20067743133.748 total time=   1.0s\n",
      "[CV 4/5] END model=RandomForestRegressor(), model__min_samples_split=9, model__n_estimators=100, preprocessing__num__skbest__k=44;, score=-37223339005.775 total time=   1.1s\n",
      "[CV 5/5] END model=RandomForestRegressor(), model__min_samples_split=9, model__n_estimators=100, preprocessing__num__skbest__k=44;, score=-25483342174.984 total time=   1.1s\n",
      "[CV 1/5] END model=RandomForestRegressor(), model__min_samples_split=10, model__n_estimators=100, preprocessing__num__skbest__k=44;, score=-34442603816.797 total time=   1.0s\n",
      "[CV 2/5] END model=RandomForestRegressor(), model__min_samples_split=10, model__n_estimators=100, preprocessing__num__skbest__k=44;, score=-24509703929.172 total time=   1.1s\n",
      "[CV 3/5] END model=RandomForestRegressor(), model__min_samples_split=10, model__n_estimators=100, preprocessing__num__skbest__k=44;, score=-20086744663.535 total time=   1.0s\n",
      "[CV 4/5] END model=RandomForestRegressor(), model__min_samples_split=10, model__n_estimators=100, preprocessing__num__skbest__k=44;, score=-36345691246.336 total time=   1.1s\n",
      "[CV 5/5] END model=RandomForestRegressor(), model__min_samples_split=10, model__n_estimators=100, preprocessing__num__skbest__k=44;, score=-24911279214.727 total time=   1.0s\n",
      "{'model': RandomForestRegressor(min_samples_split=10), 'model__min_samples_split': 10, 'model__n_estimators': 100, 'preprocessing__num__skbest__k': 44}\n"
     ]
    }
   ],
   "source": [
    "params = [\n",
    "    # {\n",
    "    #     \"model\": [ridge_model, lasso_model],\n",
    "    #     \"model__alpha\": [0.1, 0.5, 1],\n",
    "    #     \"preprocessing__num__skbest__k\": [20, 28, 36, 44]\n",
    "    # },\n",
    "    {\n",
    "        \"model\": [rf_model],\n",
    "        # \"model__n_estimators\": [200, 250, 350, 500],\n",
    "        \"model__n_estimators\": [100],\n",
    "        \"model__min_samples_split\": [4, 5, 6, 7, 8, 9, 10],\n",
    "        # \"preprocessing__num__skbest__k\": [28, 36, 44, 52, 60]\n",
    "        \"preprocessing__num__skbest__k\": [44]\n",
    "    },\n",
    "    # {\n",
    "    #     \"model\": [xgb_model],\n",
    "    #     \"model__n_estimators\": [50, 75, 100],\n",
    "    #     \"model__max_leaves\": [2, 3, 4, 0],\n",
    "    #     \"preprocessing__num__skbest__k\": [8, 20, 28]\n",
    "    # }\n",
    "    # {\n",
    "    #     \"model\": [gb_model],\n",
    "    #     \"model__n_estimators\": [25, 50, 75, 100],\n",
    "    #     \"model__min_samples_split\": [3, 4],\n",
    "    #     # \"model__learning_rate\": [0.01, 0.1],\n",
    "    #     \"preprocessing__num__skbest__k\": [28, 36, 44, 52]\n",
    "    # }\n",
    "]\n",
    "\n",
    "grid_search = GridSearchCV(pipeline, params, verbose=3, scoring='neg_mean_squared_error', refit=True)\n",
    "\n",
    "grid_search.fit(X_train, y_train)\n",
    "\n",
    "print(grid_search.best_params_)"
   ]
  },
  {
   "cell_type": "markdown",
   "metadata": {},
   "source": [
    "We want to make sure that we save our models.  In the old days, one just simply pickled (serialized) the model.  Now, however, certain model types have their own save format.  If the model is from sklearn, it can be pickled, if it's xgboost, for example, the newest format to save it in is JSON, but it can also be pickled.  It's a good idea to stay with the most current methods. \n",
    "- you may want to create a new `models/` subdirectory in your repo to stay organized"
   ]
  },
  {
   "cell_type": "code",
   "execution_count": 266,
   "metadata": {},
   "outputs": [
    {
     "name": "stdout",
     "output_type": "stream",
     "text": [
      "R2:0.6960391295055837\n",
      "RMSE:130956.15682667466\n"
     ]
    }
   ],
   "source": [
    "y_pred = grid_search.predict(X_test)\n",
    "\n",
    "print(\"R2:\" + str(r2_score(y_test, y_pred)))\n",
    "print(\"RMSE:\" + str(mean_squared_error(y_test, y_pred, squared=False)))"
   ]
  },
  {
   "cell_type": "code",
   "execution_count": 272,
   "metadata": {},
   "outputs": [],
   "source": [
    "import pickle\n",
    "\n",
    "with open('models/tuned_rf.pkl', 'wb') as handle:\n",
    "    pickle.dump(grid_search, handle)\n",
    "\n",
    "with open('models/tuned_rf.pkl', 'rb') as handle:\n",
    "    grid_search = pickle.load(handle)\n",
    "\n",
    "y_pred = grid_search.predict(X_test)\n",
    "\n",
    "print(\"R2:\" + str(r2_score(y_test, y_pred)))\n",
    "print(\"RMSE:\" + str(mean_squared_error(y_test, y_pred, squared=False)))"
   ]
  },
  {
   "cell_type": "markdown",
   "metadata": {},
   "source": [
    "Once you've identified which model works the best, implement a prediction pipeline to make sure that you haven't leaked any data, and that the model could be easily deployed if desired.\n",
    "- Your pipeline should load the data, process it, load your saved tuned model, and output a set of predictions\n",
    "- Assume that the new data is in the same JSON format as your original data - you can use your original data to check that the pipeline works correctly\n",
    "- Beware that a pipeline can only handle functions with fit and transform methods.\n",
    "- Classes can be used to get around this, but now sklearn has a wrapper for user defined functions.\n",
    "- You can develop your functions or classes in the notebook here, but once they are working, you should import them from `functions_variables.py` "
   ]
  },
  {
   "cell_type": "code",
   "execution_count": 273,
   "metadata": {},
   "outputs": [],
   "source": []
  },
  {
   "cell_type": "code",
   "execution_count": 274,
   "metadata": {},
   "outputs": [
    {
     "name": "stdout",
     "output_type": "stream",
     "text": [
      "R2:0.6960391295055837\n",
      "RMSE:130956.15682667466\n"
     ]
    }
   ],
   "source": []
  },
  {
   "cell_type": "markdown",
   "metadata": {},
   "source": [
    "Pipelines come from sklearn.  When a pipeline is pickled, all of the information in the pipeline is stored with it.  For example, if we were deploying a model, and we had fit a scaler on the training data, we would want the same, already fitted scaling object to transform the new data with.  This is all stored when the pipeline is pickled.\n",
    "- save your final pipeline in your `models/` folder"
   ]
  },
  {
   "cell_type": "code",
   "execution_count": 268,
   "metadata": {},
   "outputs": [],
   "source": [
    "# save your pipeline here"
   ]
  }
 ],
 "metadata": {
  "kernelspec": {
   "display_name": "Python 3",
   "language": "python",
   "name": "python3"
  },
  "language_info": {
   "codemirror_mode": {
    "name": "ipython",
    "version": 3
   },
   "file_extension": ".py",
   "mimetype": "text/x-python",
   "name": "python",
   "nbconvert_exporter": "python",
   "pygments_lexer": "ipython3",
   "version": "3.11.5"
  }
 },
 "nbformat": 4,
 "nbformat_minor": 2
}
