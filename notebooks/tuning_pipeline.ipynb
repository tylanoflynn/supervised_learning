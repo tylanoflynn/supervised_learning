{
 "cells": [
  {
   "cell_type": "code",
   "execution_count": 309,
   "metadata": {},
   "outputs": [
    {
     "name": "stdout",
     "output_type": "stream",
     "text": [
      "1471\n",
      "(1471, 73)\n",
      "<class 'pandas.core.frame.DataFrame'>\n",
      "RangeIndex: 1471 entries, 0 to 1470\n",
      "Data columns (total 73 columns):\n",
      " #   Column                       Non-Null Count  Dtype  \n",
      "---  ------                       --------------  -----  \n",
      " 0   baths                        1471 non-null   float64\n",
      " 1   baths_full                   1471 non-null   float64\n",
      " 2   baths_half                   1471 non-null   float64\n",
      " 3   beds                         1469 non-null   float64\n",
      " 4   garage                       1471 non-null   float64\n",
      " 5   lot_sqft                     1470 non-null   float64\n",
      " 6   sold_price                   1471 non-null   float64\n",
      " 7   sqft                         1468 non-null   float64\n",
      " 8   stories                      1468 non-null   float64\n",
      " 9   type                         1471 non-null   object \n",
      " 10  year_built                   1468 non-null   float64\n",
      " 11  is_price_reduced             1471 non-null   bool   \n",
      " 12  list_price                   1471 non-null   float64\n",
      " 13  city                         1471 non-null   object \n",
      " 14  lat                          1465 non-null   float64\n",
      " 15  lon                          1465 non-null   float64\n",
      " 16  postal_code                  1471 non-null   int64  \n",
      " 17  state                        1471 non-null   object \n",
      " 18  state_code                   1471 non-null   object \n",
      " 19  price_reduced_amount         1471 non-null   float64\n",
      " 20  property_id                  1471 non-null   int64  \n",
      " 21  basement                     1471 non-null   int64  \n",
      " 22  big_lot                      1471 non-null   int64  \n",
      " 23  big_yard                     1471 non-null   int64  \n",
      " 24  carport                      1471 non-null   int64  \n",
      " 25  central_air                  1471 non-null   int64  \n",
      " 26  central_heat                 1471 non-null   int64  \n",
      " 27  city_view                    1471 non-null   int64  \n",
      " 28  community_outdoor_space      1471 non-null   int64  \n",
      " 29  community_security_features  1471 non-null   int64  \n",
      " 30  community_swimming_pool      1471 non-null   int64  \n",
      " 31  corner_lot                   1471 non-null   int64  \n",
      " 32  dining_room                  1471 non-null   int64  \n",
      " 33  disability_features          1471 non-null   int64  \n",
      " 34  dishwasher                   1471 non-null   int64  \n",
      " 35  energy_efficient             1471 non-null   int64  \n",
      " 36  ensuite                      1471 non-null   int64  \n",
      " 37  family_room                  1471 non-null   int64  \n",
      " 38  farm                         1471 non-null   int64  \n",
      " 39  fenced_yard                  1471 non-null   int64  \n",
      " 40  fireplace                    1471 non-null   int64  \n",
      " 41  floor_plan                   1471 non-null   int64  \n",
      " 42  forced_air                   1471 non-null   int64  \n",
      " 43  front_porch                  1471 non-null   int64  \n",
      " 44  garage_1_or_more             1471 non-null   int64  \n",
      " 45  garage_2_or_more             1471 non-null   int64  \n",
      " 46  garage_3_or_more             1471 non-null   int64  \n",
      " 47  groundscare                  1471 non-null   int64  \n",
      " 48  hardwood_floors              1471 non-null   int64  \n",
      " 49  high_ceiling                 1471 non-null   int64  \n",
      " 50  laundry_room                 1471 non-null   int64  \n",
      " 51  master_bedroom               1471 non-null   int64  \n",
      " 52  modern_kitchen               1471 non-null   int64  \n",
      " 53  new_roof                     1471 non-null   int64  \n",
      " 54  open_floor_plan              1471 non-null   int64  \n",
      " 55  park                         1471 non-null   int64  \n",
      " 56  ranch                        1471 non-null   int64  \n",
      " 57  recreation_facilities        1471 non-null   int64  \n",
      " 58  rental_property              1471 non-null   int64  \n",
      " 59  shopping                     1471 non-null   int64  \n",
      " 60  single_story                 1471 non-null   int64  \n",
      " 61  swimming_pool                1471 non-null   int64  \n",
      " 62  trails                       1471 non-null   int64  \n",
      " 63  two_or_more_stories          1471 non-null   int64  \n",
      " 64  updated_kitchen              1471 non-null   int64  \n",
      " 65  view                         1471 non-null   int64  \n",
      " 66  views                        1471 non-null   int64  \n",
      " 67  washer_dryer                 1471 non-null   int64  \n",
      " 68  sold_month                   1471 non-null   int64  \n",
      " 69  sold_year                    1471 non-null   int64  \n",
      " 70  list_month                   1471 non-null   int64  \n",
      " 71  list_year                    1471 non-null   int64  \n",
      " 72  time_on_market               1471 non-null   int64  \n",
      "dtypes: bool(1), float64(14), int64(54), object(4)\n",
      "memory usage: 829.0+ KB\n"
     ]
    },
    {
     "data": {
      "text/plain": [
       "type\n",
       "single_family                  990\n",
       "condos                         143\n",
       "townhomes                      110\n",
       "multi_family                   106\n",
       "land                            72\n",
       "mobile                          31\n",
       "condo                           11\n",
       "apartment                        4\n",
       "other                            2\n",
       "condo_townhome_rowhome_coop      1\n",
       "duplex_triplex                   1\n",
       "Name: count, dtype: int64"
      ]
     },
     "execution_count": 309,
     "metadata": {},
     "output_type": "execute_result"
    }
   ],
   "source": [
    "import pandas as pd\n",
    "import numpy as np\n",
    "\n",
    "from sklearn.pipeline import Pipeline, FeatureUnion\n",
    "from sklearn.preprocessing import MultiLabelBinarizer, FunctionTransformer, MinMaxScaler, OneHotEncoder, LabelEncoder\n",
    "from sklearn.impute import SimpleImputer\n",
    "from sklearn.model_selection import GridSearchCV, train_test_split\n",
    "from sklearn.metrics import r2_score\n",
    "from sklearn.metrics import mean_squared_error\n",
    "\n",
    "from sklearn.linear_model import Ridge\n",
    "from sklearn.ensemble import RandomForestRegressor, GradientBoostingRegressor\n",
    "\n",
    "# from sklearn import set_config\n",
    "# set_config(transform_output = \"pandas\")\n",
    "\n",
    "from modules.TargetAverager import TargetAverager\n",
    "\n",
    "\n",
    "pd.set_option('display.max_columns', 500)\n",
    "pd.set_option('display.max_rows', 500)\n",
    "\n",
    "df = pd.read_csv(\"../house_sales.csv\")\n",
    "\n",
    "print(df['property_id'].nunique())\n",
    "print(df.shape)\n",
    "df.info()\n",
    "\n",
    "df['type'].value_counts()"
   ]
  },
  {
   "cell_type": "code",
   "execution_count": 294,
   "metadata": {},
   "outputs": [
    {
     "name": "stdout",
     "output_type": "stream",
     "text": [
      "float64\n",
      "float64\n"
     ]
    }
   ],
   "source": [
    "y = df[\"sold_price\"]\n",
    "X = df.drop([\"sold_price\", \"property_id\"], axis=1)\n",
    "\n",
    "X_train, X_test, y_train, y_test = train_test_split(X, y, test_size=0.20)\n",
    "\n",
    "print(X_train['baths'].dtype)\n",
    "print(y.dtype)"
   ]
  },
  {
   "cell_type": "code",
   "execution_count": 295,
   "metadata": {},
   "outputs": [],
   "source": [
    "def numFeat(data):\n",
    "    filter = data.dtypes[[pd.api.types.is_numeric_dtype(dtype) for dtype in data.dtypes]].index.tolist()\n",
    "    print(filter)\n",
    "    return data[filter]\n",
    "\n",
    "def catFeat(data):\n",
    "    filter = data.dtypes[data.dtypes == 'object'].index.tolist()\n",
    "    print(filter)\n",
    "    return data[filter]\n",
    "\n",
    "\n",
    "keep_num = FunctionTransformer(numFeat)\n",
    "keep_cat = FunctionTransformer(catFeat)"
   ]
  },
  {
   "cell_type": "code",
   "execution_count": 296,
   "metadata": {},
   "outputs": [],
   "source": [
    "# mlb = MultiLabelBinarizer()\n",
    "minmax_scaler = MinMaxScaler()\n",
    "imputer = SimpleImputer()\n",
    "class_encoder = OneHotEncoder()\n",
    "target_averager = TargetAverager(\"city\")"
   ]
  },
  {
   "cell_type": "code",
   "execution_count": 297,
   "metadata": {},
   "outputs": [],
   "source": [
    "class ToDenseTransformer:\n",
    "    def transform(self, X, y=None, **fit_params):\n",
    "        return X.toarray()\n",
    "\n",
    "    def fit(self, X, y=None, **fit_params):\n",
    "        return self\n",
    "\n",
    "densifier = ToDenseTransformer()"
   ]
  },
  {
   "cell_type": "code",
   "execution_count": 298,
   "metadata": {},
   "outputs": [],
   "source": [
    "# Potential models\n",
    "base_model = Ridge()\n",
    "rf_model = RandomForestRegressor(n_estimators=100)\n",
    "gb_model = GradientBoostingRegressor()"
   ]
  },
  {
   "cell_type": "code",
   "execution_count": 299,
   "metadata": {},
   "outputs": [],
   "source": [
    "num_pipe = Pipeline([\n",
    "    ('NumFilter', keep_num),\n",
    "    ('MMScaler', minmax_scaler),\n",
    "    ('Imputer', imputer)\n",
    "    \n",
    "])\n",
    "\n",
    "cat_pipe = Pipeline([\n",
    "    ('CatFilter', keep_cat),\n",
    "    ('OHEncoder', class_encoder),\n",
    "    ('Densifier', densifier)\n",
    "    # ('Imputer', imputer)\n",
    "])\n",
    "\n",
    "# list_pipe = Pipeline([\n",
    "#     ('ListFilter', keep_list),\n",
    "#     ('MultiLabelBinarizer', mlb),\n",
    "#     ('Imputer', imputer)\n",
    "# ])\n",
    "\n",
    "pre_processing_pipeline = FeatureUnion([(\"num\", num_pipe), (\"cat\", cat_pipe)])"
   ]
  },
  {
   "cell_type": "code",
   "execution_count": 300,
   "metadata": {},
   "outputs": [],
   "source": [
    "pipeline = Pipeline([(\"TargetAverager\", target_averager), (\"preprocessing\", pre_processing_pipeline), (\"model\", rf_model)])"
   ]
  },
  {
   "cell_type": "code",
   "execution_count": 301,
   "metadata": {},
   "outputs": [
    {
     "name": "stdout",
     "output_type": "stream",
     "text": [
      "['baths', 'baths_full', 'baths_half', 'beds', 'garage', 'lot_sqft', 'sqft', 'stories', 'year_built', 'is_price_reduced', 'list_price', 'lat', 'lon', 'postal_code', 'price_reduced_amount', 'basement', 'big_lot', 'big_yard', 'carport', 'central_air', 'central_heat', 'city_view', 'community_outdoor_space', 'community_security_features', 'community_swimming_pool', 'corner_lot', 'dining_room', 'disability_features', 'dishwasher', 'energy_efficient', 'ensuite', 'family_room', 'farm', 'fenced_yard', 'fireplace', 'floor_plan', 'forced_air', 'front_porch', 'garage_1_or_more', 'garage_2_or_more', 'garage_3_or_more', 'groundscare', 'hardwood_floors', 'high_ceiling', 'laundry_room', 'master_bedroom', 'modern_kitchen', 'new_roof', 'open_floor_plan', 'park', 'ranch', 'recreation_facilities', 'rental_property', 'shopping', 'single_story', 'swimming_pool', 'trails', 'two_or_more_stories', 'updated_kitchen', 'view', 'views', 'washer_dryer', 'sold_month', 'sold_year', 'list_month', 'list_year', 'time_on_market', 'mean']\n",
      "['type', 'state', 'state_code']\n"
     ]
    },
    {
     "data": {
      "text/html": [
       "<style>#sk-container-id-23 {color: black;}#sk-container-id-23 pre{padding: 0;}#sk-container-id-23 div.sk-toggleable {background-color: white;}#sk-container-id-23 label.sk-toggleable__label {cursor: pointer;display: block;width: 100%;margin-bottom: 0;padding: 0.3em;box-sizing: border-box;text-align: center;}#sk-container-id-23 label.sk-toggleable__label-arrow:before {content: \"▸\";float: left;margin-right: 0.25em;color: #696969;}#sk-container-id-23 label.sk-toggleable__label-arrow:hover:before {color: black;}#sk-container-id-23 div.sk-estimator:hover label.sk-toggleable__label-arrow:before {color: black;}#sk-container-id-23 div.sk-toggleable__content {max-height: 0;max-width: 0;overflow: hidden;text-align: left;background-color: #f0f8ff;}#sk-container-id-23 div.sk-toggleable__content pre {margin: 0.2em;color: black;border-radius: 0.25em;background-color: #f0f8ff;}#sk-container-id-23 input.sk-toggleable__control:checked~div.sk-toggleable__content {max-height: 200px;max-width: 100%;overflow: auto;}#sk-container-id-23 input.sk-toggleable__control:checked~label.sk-toggleable__label-arrow:before {content: \"▾\";}#sk-container-id-23 div.sk-estimator input.sk-toggleable__control:checked~label.sk-toggleable__label {background-color: #d4ebff;}#sk-container-id-23 div.sk-label input.sk-toggleable__control:checked~label.sk-toggleable__label {background-color: #d4ebff;}#sk-container-id-23 input.sk-hidden--visually {border: 0;clip: rect(1px 1px 1px 1px);clip: rect(1px, 1px, 1px, 1px);height: 1px;margin: -1px;overflow: hidden;padding: 0;position: absolute;width: 1px;}#sk-container-id-23 div.sk-estimator {font-family: monospace;background-color: #f0f8ff;border: 1px dotted black;border-radius: 0.25em;box-sizing: border-box;margin-bottom: 0.5em;}#sk-container-id-23 div.sk-estimator:hover {background-color: #d4ebff;}#sk-container-id-23 div.sk-parallel-item::after {content: \"\";width: 100%;border-bottom: 1px solid gray;flex-grow: 1;}#sk-container-id-23 div.sk-label:hover label.sk-toggleable__label {background-color: #d4ebff;}#sk-container-id-23 div.sk-serial::before {content: \"\";position: absolute;border-left: 1px solid gray;box-sizing: border-box;top: 0;bottom: 0;left: 50%;z-index: 0;}#sk-container-id-23 div.sk-serial {display: flex;flex-direction: column;align-items: center;background-color: white;padding-right: 0.2em;padding-left: 0.2em;position: relative;}#sk-container-id-23 div.sk-item {position: relative;z-index: 1;}#sk-container-id-23 div.sk-parallel {display: flex;align-items: stretch;justify-content: center;background-color: white;position: relative;}#sk-container-id-23 div.sk-item::before, #sk-container-id-23 div.sk-parallel-item::before {content: \"\";position: absolute;border-left: 1px solid gray;box-sizing: border-box;top: 0;bottom: 0;left: 50%;z-index: -1;}#sk-container-id-23 div.sk-parallel-item {display: flex;flex-direction: column;z-index: 1;position: relative;background-color: white;}#sk-container-id-23 div.sk-parallel-item:first-child::after {align-self: flex-end;width: 50%;}#sk-container-id-23 div.sk-parallel-item:last-child::after {align-self: flex-start;width: 50%;}#sk-container-id-23 div.sk-parallel-item:only-child::after {width: 0;}#sk-container-id-23 div.sk-dashed-wrapped {border: 1px dashed gray;margin: 0 0.4em 0.5em 0.4em;box-sizing: border-box;padding-bottom: 0.4em;background-color: white;}#sk-container-id-23 div.sk-label label {font-family: monospace;font-weight: bold;display: inline-block;line-height: 1.2em;}#sk-container-id-23 div.sk-label-container {text-align: center;}#sk-container-id-23 div.sk-container {/* jupyter's `normalize.less` sets `[hidden] { display: none; }` but bootstrap.min.css set `[hidden] { display: none !important; }` so we also need the `!important` here to be able to override the default hidden behavior on the sphinx rendered scikit-learn.org. See: https://github.com/scikit-learn/scikit-learn/issues/21755 */display: inline-block !important;position: relative;}#sk-container-id-23 div.sk-text-repr-fallback {display: none;}</style><div id=\"sk-container-id-23\" class=\"sk-top-container\"><div class=\"sk-text-repr-fallback\"><pre>Pipeline(steps=[(&#x27;TargetAverager&#x27;, TargetAverager(group_by_feature=&#x27;city&#x27;)),\n",
       "                (&#x27;preprocessing&#x27;,\n",
       "                 FeatureUnion(transformer_list=[(&#x27;num&#x27;,\n",
       "                                                 Pipeline(steps=[(&#x27;NumFilter&#x27;,\n",
       "                                                                  FunctionTransformer(func=&lt;function numFeat at 0x7f33a3356160&gt;)),\n",
       "                                                                 (&#x27;MMScaler&#x27;,\n",
       "                                                                  MinMaxScaler()),\n",
       "                                                                 (&#x27;Imputer&#x27;,\n",
       "                                                                  SimpleImputer())])),\n",
       "                                                (&#x27;cat&#x27;,\n",
       "                                                 Pipeline(steps=[(&#x27;CatFilter&#x27;,\n",
       "                                                                  FunctionTransformer(func=&lt;function catFeat at 0x7f33a3355b20&gt;)),\n",
       "                                                                 (&#x27;OHEncoder&#x27;,\n",
       "                                                                  OneHotEncoder()),\n",
       "                                                                 (&#x27;Densifier&#x27;,\n",
       "                                                                  &lt;__main__.ToDenseTransformer object at 0x7f33a34acc10&gt;)]))])),\n",
       "                (&#x27;model&#x27;, RandomForestRegressor())])</pre><b>In a Jupyter environment, please rerun this cell to show the HTML representation or trust the notebook. <br />On GitHub, the HTML representation is unable to render, please try loading this page with nbviewer.org.</b></div><div class=\"sk-container\" hidden><div class=\"sk-item sk-dashed-wrapped\"><div class=\"sk-label-container\"><div class=\"sk-label sk-toggleable\"><input class=\"sk-toggleable__control sk-hidden--visually\" id=\"sk-estimator-id-221\" type=\"checkbox\" ><label for=\"sk-estimator-id-221\" class=\"sk-toggleable__label sk-toggleable__label-arrow\">Pipeline</label><div class=\"sk-toggleable__content\"><pre>Pipeline(steps=[(&#x27;TargetAverager&#x27;, TargetAverager(group_by_feature=&#x27;city&#x27;)),\n",
       "                (&#x27;preprocessing&#x27;,\n",
       "                 FeatureUnion(transformer_list=[(&#x27;num&#x27;,\n",
       "                                                 Pipeline(steps=[(&#x27;NumFilter&#x27;,\n",
       "                                                                  FunctionTransformer(func=&lt;function numFeat at 0x7f33a3356160&gt;)),\n",
       "                                                                 (&#x27;MMScaler&#x27;,\n",
       "                                                                  MinMaxScaler()),\n",
       "                                                                 (&#x27;Imputer&#x27;,\n",
       "                                                                  SimpleImputer())])),\n",
       "                                                (&#x27;cat&#x27;,\n",
       "                                                 Pipeline(steps=[(&#x27;CatFilter&#x27;,\n",
       "                                                                  FunctionTransformer(func=&lt;function catFeat at 0x7f33a3355b20&gt;)),\n",
       "                                                                 (&#x27;OHEncoder&#x27;,\n",
       "                                                                  OneHotEncoder()),\n",
       "                                                                 (&#x27;Densifier&#x27;,\n",
       "                                                                  &lt;__main__.ToDenseTransformer object at 0x7f33a34acc10&gt;)]))])),\n",
       "                (&#x27;model&#x27;, RandomForestRegressor())])</pre></div></div></div><div class=\"sk-serial\"><div class=\"sk-item\"><div class=\"sk-estimator sk-toggleable\"><input class=\"sk-toggleable__control sk-hidden--visually\" id=\"sk-estimator-id-222\" type=\"checkbox\" ><label for=\"sk-estimator-id-222\" class=\"sk-toggleable__label sk-toggleable__label-arrow\">TargetAverager</label><div class=\"sk-toggleable__content\"><pre>TargetAverager(group_by_feature=&#x27;city&#x27;)</pre></div></div></div><div class=\"sk-item sk-dashed-wrapped\"><div class=\"sk-label-container\"><div class=\"sk-label sk-toggleable\"><input class=\"sk-toggleable__control sk-hidden--visually\" id=\"sk-estimator-id-223\" type=\"checkbox\" ><label for=\"sk-estimator-id-223\" class=\"sk-toggleable__label sk-toggleable__label-arrow\">preprocessing: FeatureUnion</label><div class=\"sk-toggleable__content\"><pre>FeatureUnion(transformer_list=[(&#x27;num&#x27;,\n",
       "                                Pipeline(steps=[(&#x27;NumFilter&#x27;,\n",
       "                                                 FunctionTransformer(func=&lt;function numFeat at 0x7f33a3356160&gt;)),\n",
       "                                                (&#x27;MMScaler&#x27;, MinMaxScaler()),\n",
       "                                                (&#x27;Imputer&#x27;, SimpleImputer())])),\n",
       "                               (&#x27;cat&#x27;,\n",
       "                                Pipeline(steps=[(&#x27;CatFilter&#x27;,\n",
       "                                                 FunctionTransformer(func=&lt;function catFeat at 0x7f33a3355b20&gt;)),\n",
       "                                                (&#x27;OHEncoder&#x27;, OneHotEncoder()),\n",
       "                                                (&#x27;Densifier&#x27;,\n",
       "                                                 &lt;__main__.ToDenseTransformer object at 0x7f33a34acc10&gt;)]))])</pre></div></div></div><div class=\"sk-parallel\"><div class=\"sk-parallel-item\"><div class=\"sk-item\"><div class=\"sk-label-container\"><div class=\"sk-label sk-toggleable\"><label>num</label></div></div><div class=\"sk-serial\"><div class=\"sk-item\"><div class=\"sk-serial\"><div class=\"sk-item\"><div class=\"sk-estimator sk-toggleable\"><input class=\"sk-toggleable__control sk-hidden--visually\" id=\"sk-estimator-id-224\" type=\"checkbox\" ><label for=\"sk-estimator-id-224\" class=\"sk-toggleable__label sk-toggleable__label-arrow\">FunctionTransformer</label><div class=\"sk-toggleable__content\"><pre>FunctionTransformer(func=&lt;function numFeat at 0x7f33a3356160&gt;)</pre></div></div></div><div class=\"sk-item\"><div class=\"sk-estimator sk-toggleable\"><input class=\"sk-toggleable__control sk-hidden--visually\" id=\"sk-estimator-id-225\" type=\"checkbox\" ><label for=\"sk-estimator-id-225\" class=\"sk-toggleable__label sk-toggleable__label-arrow\">MinMaxScaler</label><div class=\"sk-toggleable__content\"><pre>MinMaxScaler()</pre></div></div></div><div class=\"sk-item\"><div class=\"sk-estimator sk-toggleable\"><input class=\"sk-toggleable__control sk-hidden--visually\" id=\"sk-estimator-id-226\" type=\"checkbox\" ><label for=\"sk-estimator-id-226\" class=\"sk-toggleable__label sk-toggleable__label-arrow\">SimpleImputer</label><div class=\"sk-toggleable__content\"><pre>SimpleImputer()</pre></div></div></div></div></div></div></div></div><div class=\"sk-parallel-item\"><div class=\"sk-item\"><div class=\"sk-label-container\"><div class=\"sk-label sk-toggleable\"><label>cat</label></div></div><div class=\"sk-serial\"><div class=\"sk-item\"><div class=\"sk-serial\"><div class=\"sk-item\"><div class=\"sk-estimator sk-toggleable\"><input class=\"sk-toggleable__control sk-hidden--visually\" id=\"sk-estimator-id-227\" type=\"checkbox\" ><label for=\"sk-estimator-id-227\" class=\"sk-toggleable__label sk-toggleable__label-arrow\">FunctionTransformer</label><div class=\"sk-toggleable__content\"><pre>FunctionTransformer(func=&lt;function catFeat at 0x7f33a3355b20&gt;)</pre></div></div></div><div class=\"sk-item\"><div class=\"sk-estimator sk-toggleable\"><input class=\"sk-toggleable__control sk-hidden--visually\" id=\"sk-estimator-id-228\" type=\"checkbox\" ><label for=\"sk-estimator-id-228\" class=\"sk-toggleable__label sk-toggleable__label-arrow\">OneHotEncoder</label><div class=\"sk-toggleable__content\"><pre>OneHotEncoder()</pre></div></div></div><div class=\"sk-item\"><div class=\"sk-estimator sk-toggleable\"><input class=\"sk-toggleable__control sk-hidden--visually\" id=\"sk-estimator-id-229\" type=\"checkbox\" ><label for=\"sk-estimator-id-229\" class=\"sk-toggleable__label sk-toggleable__label-arrow\">ToDenseTransformer</label><div class=\"sk-toggleable__content\"><pre>&lt;__main__.ToDenseTransformer object at 0x7f33a34acc10&gt;</pre></div></div></div></div></div></div></div></div></div></div><div class=\"sk-item\"><div class=\"sk-estimator sk-toggleable\"><input class=\"sk-toggleable__control sk-hidden--visually\" id=\"sk-estimator-id-230\" type=\"checkbox\" ><label for=\"sk-estimator-id-230\" class=\"sk-toggleable__label sk-toggleable__label-arrow\">RandomForestRegressor</label><div class=\"sk-toggleable__content\"><pre>RandomForestRegressor()</pre></div></div></div></div></div></div></div>"
      ],
      "text/plain": [
       "Pipeline(steps=[('TargetAverager', TargetAverager(group_by_feature='city')),\n",
       "                ('preprocessing',\n",
       "                 FeatureUnion(transformer_list=[('num',\n",
       "                                                 Pipeline(steps=[('NumFilter',\n",
       "                                                                  FunctionTransformer(func=<function numFeat at 0x7f33a3356160>)),\n",
       "                                                                 ('MMScaler',\n",
       "                                                                  MinMaxScaler()),\n",
       "                                                                 ('Imputer',\n",
       "                                                                  SimpleImputer())])),\n",
       "                                                ('cat',\n",
       "                                                 Pipeline(steps=[('CatFilter',\n",
       "                                                                  FunctionTransformer(func=<function catFeat at 0x7f33a3355b20>)),\n",
       "                                                                 ('OHEncoder',\n",
       "                                                                  OneHotEncoder()),\n",
       "                                                                 ('Densifier',\n",
       "                                                                  <__main__.ToDenseTransformer object at 0x7f33a34acc10>)]))])),\n",
       "                ('model', RandomForestRegressor())])"
      ]
     },
     "execution_count": 301,
     "metadata": {},
     "output_type": "execute_result"
    }
   ],
   "source": [
    "pipeline.fit(X_train, y_train)"
   ]
  },
  {
   "cell_type": "code",
   "execution_count": 302,
   "metadata": {},
   "outputs": [
    {
     "name": "stdout",
     "output_type": "stream",
     "text": [
      "['baths', 'baths_full', 'baths_half', 'beds', 'garage', 'lot_sqft', 'sqft', 'stories', 'year_built', 'is_price_reduced', 'list_price', 'lat', 'lon', 'postal_code', 'price_reduced_amount', 'basement', 'big_lot', 'big_yard', 'carport', 'central_air', 'central_heat', 'city_view', 'community_outdoor_space', 'community_security_features', 'community_swimming_pool', 'corner_lot', 'dining_room', 'disability_features', 'dishwasher', 'energy_efficient', 'ensuite', 'family_room', 'farm', 'fenced_yard', 'fireplace', 'floor_plan', 'forced_air', 'front_porch', 'garage_1_or_more', 'garage_2_or_more', 'garage_3_or_more', 'groundscare', 'hardwood_floors', 'high_ceiling', 'laundry_room', 'master_bedroom', 'modern_kitchen', 'new_roof', 'open_floor_plan', 'park', 'ranch', 'recreation_facilities', 'rental_property', 'shopping', 'single_story', 'swimming_pool', 'trails', 'two_or_more_stories', 'updated_kitchen', 'view', 'views', 'washer_dryer', 'sold_month', 'sold_year', 'list_month', 'list_year', 'time_on_market', 'mean']\n",
      "['type', 'state', 'state_code']\n"
     ]
    }
   ],
   "source": [
    "y_pred = pipeline.predict(X_test)"
   ]
  },
  {
   "cell_type": "code",
   "execution_count": 303,
   "metadata": {},
   "outputs": [
    {
     "name": "stdout",
     "output_type": "stream",
     "text": [
      "R2:0.9553276628565868\n",
      "RMSE:83126.44304163723\n"
     ]
    }
   ],
   "source": [
    "print(\"R2:\" + str(r2_score(y_test, y_pred)))\n",
    "print(\"RMSE:\" + str(mean_squared_error(y_test, y_pred, squared=False)))"
   ]
  },
  {
   "cell_type": "code",
   "execution_count": 304,
   "metadata": {},
   "outputs": [],
   "source": [
    "# params = {\n",
    "#     \"model\": [base_model, rf_model, gb_model]\n",
    "# }\n",
    "\n",
    "# grid_search = GridSearchCV(pipeline, params, verbose=10, refit=True)\n",
    "\n",
    "# grid_search.fit(X_train, y_train)\n",
    "\n",
    "# print(grid_search.best_params_)"
   ]
  },
  {
   "cell_type": "markdown",
   "metadata": {},
   "source": [
    "We want to make sure that we save our models.  In the old days, one just simply pickled (serialized) the model.  Now, however, certain model types have their own save format.  If the model is from sklearn, it can be pickled, if it's xgboost, for example, the newest format to save it in is JSON, but it can also be pickled.  It's a good idea to stay with the most current methods. \n",
    "- you may want to create a new `models/` subdirectory in your repo to stay organized"
   ]
  },
  {
   "cell_type": "code",
   "execution_count": 305,
   "metadata": {},
   "outputs": [],
   "source": [
    "# save your best model here"
   ]
  },
  {
   "cell_type": "markdown",
   "metadata": {},
   "source": [
    "Once you've identified which model works the best, implement a prediction pipeline to make sure that you haven't leaked any data, and that the model could be easily deployed if desired.\n",
    "- Your pipeline should load the data, process it, load your saved tuned model, and output a set of predictions\n",
    "- Assume that the new data is in the same JSON format as your original data - you can use your original data to check that the pipeline works correctly\n",
    "- Beware that a pipeline can only handle functions with fit and transform methods.\n",
    "- Classes can be used to get around this, but now sklearn has a wrapper for user defined functions.\n",
    "- You can develop your functions or classes in the notebook here, but once they are working, you should import them from `functions_variables.py` "
   ]
  },
  {
   "cell_type": "code",
   "execution_count": 306,
   "metadata": {},
   "outputs": [],
   "source": [
    "# Build pipeline here"
   ]
  },
  {
   "cell_type": "markdown",
   "metadata": {},
   "source": [
    "Pipelines come from sklearn.  When a pipeline is pickled, all of the information in the pipeline is stored with it.  For example, if we were deploying a model, and we had fit a scaler on the training data, we would want the same, already fitted scaling object to transform the new data with.  This is all stored when the pipeline is pickled.\n",
    "- save your final pipeline in your `models/` folder"
   ]
  },
  {
   "cell_type": "code",
   "execution_count": 307,
   "metadata": {},
   "outputs": [],
   "source": [
    "# save your pipeline here"
   ]
  }
 ],
 "metadata": {
  "kernelspec": {
   "display_name": "Python 3",
   "language": "python",
   "name": "python3"
  },
  "language_info": {
   "codemirror_mode": {
    "name": "ipython",
    "version": 3
   },
   "file_extension": ".py",
   "mimetype": "text/x-python",
   "name": "python",
   "nbconvert_exporter": "python",
   "pygments_lexer": "ipython3",
   "version": "3.11.5"
  }
 },
 "nbformat": 4,
 "nbformat_minor": 2
}
